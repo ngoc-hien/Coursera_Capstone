{
    "cells": [
        {
            "cell_type": "markdown",
            "metadata": {},
            "source": "# <center> Geodemographic Segmentation for Neighborhoods in New York City</center>\n<center>Hien Nguyen, 08/2020 </center> "
        },
        {
            "cell_type": "markdown",
            "metadata": {},
            "source": "## 1. Introduction <a name='introduction'></a>  "
        },
        {
            "cell_type": "markdown",
            "metadata": {},
            "source": "In this project I study geodemographic segmentation and perform a geodemographic segmentation for neighborhoods in New York City.  \n\n### 1.1. What is geodemographic segmentation?  \nGeodemographic segmentation is a cluster analysis that uses geographic and demographic information to partition a set of people or locations into different groups or clusters. In that way objects in the same cluster are more similar (in some sense of geodemographic characteristics) to each other than to those in other clusters. The demographic features reflect the socio-economic conditions of residents in a region. The geographic features retain the information about\nthe properties of venues in a region. \n\n### 1.2. Principels  \nGeodemographic segmentation is based on two principles [[3]](#ref3):\n* People who live in the same neighborhood are more likely to have similar demographic and socio-economic characteristics than other people chosen at random.\n* Neighborhoods can be categorized in terms of the characteristics of the population which they contain. Any two neighborhoods can be placed in the same category, i.e., they contain similar types of people, even though they are widely separated. \n\n### 1.3. Application of geodemographic segmentation  \nGeodemographic segmentation is widely used in marketing to study behaviour types of customers and markets. The information then will be leveraged in sales and marketing strategies [[3]](#ref3). An example can be found on the site of Good migrations [[4]](#ref4). They provide help for users or customers find a neighborhood to live in a new city. The users are required to provide their requirements of home size, home budget and their preferences of location such as good fitness options, good nightlife, lots of restaurants and good walkability. Because Good migrations has a geodemographic segmentation for the city, they can easily suggest neighborhoods that fit users' preferences the most by calculating the difference between the clusters and the user.   \n  Other researches that also use goedemographic segmentation in exploratory data analysis include \"City Form and Well-being: What makes London neighborhoods good places to live?\" [[5]](#ref5) and \"Crime event prediction with dynamic features\" [[6]](#ref6). They perform the analysis to explore correlation between geodemographic information and well-being (in the first work) and crime (in the last one) in cities. The intuition behind is that the lifestyle of reseidents, the environment and facilities in a region have different impact on the well-being and crime occurence. These works help with urban planning and patrol strategy design.   \n  \n### 1.4. Goals in this project  \nI will perform a geodemographic segmentation for neighborhoods in New York City. Then I explore housing prices and crime within the clusters to see how geodemographic factors affect them.  "
        },
        {
            "cell_type": "markdown",
            "metadata": {},
            "source": "\n## 2. Datasets <a name='datasets'></a>  "
        },
        {
            "cell_type": "markdown",
            "metadata": {},
            "source": "In order to analyze housing prices and crime in the relation with geodemographic factors for New York city following data about the city is collected.    \n* Geographic data - Foursquare venue data is obtained through Foursquare API.  \n* Neighborhoods in New York city - The names and spatial coordinates of neighborhoods are collected from the open data by New York University [[1]](#ref1).  \n* Demographic data including socio-economic data, housing prices and crime ratios - The neighborhood profiles in 2019 are available on the website about New York City\u2019s Housing and Neighborhoods [[2]](#ref2).  "
        },
        {
            "cell_type": "markdown",
            "metadata": {},
            "source": "\n## References <a name='references'></a>  "
        },
        {
            "cell_type": "markdown",
            "metadata": {},
            "source": "[1] New York University, 2014 New York City Neighborhood names, https://geo.nyu.edu/catalog/nyu_2451_34572 <a name='ref1'></a>  \n[2] Furman Center for Real Estate and Urban Policy, New York City Neighoborhood profiles, https://furmancenter.org/stateofthecity <a name='ref2'></a>  \n[3] Wikipedia, Geodemographic segmentation, https://en.wikipedia.org/wiki/Geodemographic_segmentation <a name='ref3'></a>  \n[4] Good migrations, Resources for moving abroad and moving quotes https://goodmigrations.com/city-guides/neighborhood-explorer <a name='ref4'></a>  \n[5] Venerandi A, Quattrone G, Capra L (2016) City form and well-being: what makes London neighborhoods good places\nto live? <a name='ref5'></a>  \n[6] Rumi S.K., Deng K, Salim F, Crime event prediction with dynamic features <a name='ref6'></a>"
        }
    ],
    "metadata": {
        "kernelspec": {
            "display_name": "Python 3.6",
            "language": "python",
            "name": "python3"
        },
        "language_info": {
            "codemirror_mode": {
                "name": "ipython",
                "version": 3
            },
            "file_extension": ".py",
            "mimetype": "text/x-python",
            "name": "python",
            "nbconvert_exporter": "python",
            "pygments_lexer": "ipython3",
            "version": "3.6.9"
        }
    },
    "nbformat": 4,
    "nbformat_minor": 4
}